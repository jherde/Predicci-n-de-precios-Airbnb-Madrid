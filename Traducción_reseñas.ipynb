{
  "nbformat": 4,
  "nbformat_minor": 0,
  "metadata": {
    "colab": {
      "provenance": []
    },
    "kernelspec": {
      "name": "python3",
      "display_name": "Python 3"
    },
    "language_info": {
      "name": "python"
    }
  },
  "cells": [
    {
      "cell_type": "code",
      "execution_count": null,
      "metadata": {
        "id": "55XWYIzK8Oq8",
        "outputId": "dde63b3f-cdb0-4557-870c-c6d6ca05e1da",
        "colab": {
          "base_uri": "https://localhost:8080/"
        }
      },
      "outputs": [
        {
          "output_type": "stream",
          "name": "stdout",
          "text": [
            "Collecting deep-translator\n",
            "  Downloading deep_translator-1.11.4-py3-none-any.whl.metadata (30 kB)\n",
            "Collecting langdetect\n",
            "  Downloading langdetect-1.0.9.tar.gz (981 kB)\n",
            "\u001b[2K     \u001b[90m━━━━━━━━━━━━━━━━━━━━━━━━━━━━━━━━━━━━━━\u001b[0m \u001b[32m981.5/981.5 kB\u001b[0m \u001b[31m17.5 MB/s\u001b[0m eta \u001b[36m0:00:00\u001b[0m\n",
            "\u001b[?25h  Preparing metadata (setup.py) ... \u001b[?25l\u001b[?25hdone\n",
            "Requirement already satisfied: beautifulsoup4<5.0.0,>=4.9.1 in /usr/local/lib/python3.11/dist-packages (from deep-translator) (4.13.4)\n",
            "Requirement already satisfied: requests<3.0.0,>=2.23.0 in /usr/local/lib/python3.11/dist-packages (from deep-translator) (2.32.3)\n",
            "Requirement already satisfied: six in /usr/local/lib/python3.11/dist-packages (from langdetect) (1.17.0)\n",
            "Requirement already satisfied: soupsieve>1.2 in /usr/local/lib/python3.11/dist-packages (from beautifulsoup4<5.0.0,>=4.9.1->deep-translator) (2.7)\n",
            "Requirement already satisfied: typing-extensions>=4.0.0 in /usr/local/lib/python3.11/dist-packages (from beautifulsoup4<5.0.0,>=4.9.1->deep-translator) (4.14.0)\n",
            "Requirement already satisfied: charset-normalizer<4,>=2 in /usr/local/lib/python3.11/dist-packages (from requests<3.0.0,>=2.23.0->deep-translator) (3.4.2)\n",
            "Requirement already satisfied: idna<4,>=2.5 in /usr/local/lib/python3.11/dist-packages (from requests<3.0.0,>=2.23.0->deep-translator) (3.10)\n",
            "Requirement already satisfied: urllib3<3,>=1.21.1 in /usr/local/lib/python3.11/dist-packages (from requests<3.0.0,>=2.23.0->deep-translator) (2.4.0)\n",
            "Requirement already satisfied: certifi>=2017.4.17 in /usr/local/lib/python3.11/dist-packages (from requests<3.0.0,>=2.23.0->deep-translator) (2025.4.26)\n",
            "Downloading deep_translator-1.11.4-py3-none-any.whl (42 kB)\n",
            "\u001b[2K   \u001b[90m━━━━━━━━━━━━━━━━━━━━━━━━━━━━━━━━━━━━━━━━\u001b[0m \u001b[32m42.3/42.3 kB\u001b[0m \u001b[31m2.9 MB/s\u001b[0m eta \u001b[36m0:00:00\u001b[0m\n",
            "\u001b[?25hBuilding wheels for collected packages: langdetect\n",
            "  Building wheel for langdetect (setup.py) ... \u001b[?25l\u001b[?25hdone\n",
            "  Created wheel for langdetect: filename=langdetect-1.0.9-py3-none-any.whl size=993223 sha256=9c41e392b7d7f127b4914f300f01c924bc7df60ff610d7f3e9130bf22a16e7c0\n",
            "  Stored in directory: /root/.cache/pip/wheels/0a/f2/b2/e5ca405801e05eb7c8ed5b3b4bcf1fcabcd6272c167640072e\n",
            "Successfully built langdetect\n",
            "Installing collected packages: langdetect, deep-translator\n",
            "Successfully installed deep-translator-1.11.4 langdetect-1.0.9\n"
          ]
        }
      ],
      "source": [
        "pip install deep-translator langdetect"
      ]
    },
    {
      "cell_type": "code",
      "source": [
        "import pandas as pd\n",
        "import re\n",
        "from deep_translator import GoogleTranslator\n",
        "from langdetect import detect, DetectorFactory\n",
        "\n",
        "df=pd.read_csv('reviews.csv')\n",
        "df.tail()"
      ],
      "metadata": {
        "colab": {
          "base_uri": "https://localhost:8080/",
          "height": 206
        },
        "id": "mkosVRtM8do_",
        "outputId": "103a922d-a68b-45fc-f693-af80cb7d632d"
      },
      "execution_count": null,
      "outputs": [
        {
          "output_type": "execute_result",
          "data": {
            "text/plain": [
              "                  listing_id                   id        date  reviewer_id  \\\n",
              "1205942  1364616759503109256  1368127111176342942  2025-03-02    368146996   \n",
              "1205943  1365007887657848515  1370244234430465527  2025-03-05    283312107   \n",
              "1205944  1365007887657848515  1373818429800403177  2025-03-10    184521825   \n",
              "1205945  1365635357360238932  1368103217874537823  2025-03-02    313257078   \n",
              "1205946  1366534590465861868  1368063220606082280  2025-03-02    369293146   \n",
              "\n",
              "          reviewer_name                                           comments  \n",
              "1205942      Clémentine  Très bon séjour chez Juan, le logement était p...  \n",
              "1205943  Hernan Enrique  Recomendable para una persona que quiere hacer...  \n",
              "1205944          Carlos  Es una Host súper amable, fue atenta en todo m...  \n",
              "1205945            Yuet                                          很友善的房东，推荐  \n",
              "1205946           Hamid  Very friendly host and staff and Great locatio...  "
            ],
            "text/html": [
              "\n",
              "  <div id=\"df-2f2cbb0e-8683-466e-9314-6188c754c786\" class=\"colab-df-container\">\n",
              "    <div>\n",
              "<style scoped>\n",
              "    .dataframe tbody tr th:only-of-type {\n",
              "        vertical-align: middle;\n",
              "    }\n",
              "\n",
              "    .dataframe tbody tr th {\n",
              "        vertical-align: top;\n",
              "    }\n",
              "\n",
              "    .dataframe thead th {\n",
              "        text-align: right;\n",
              "    }\n",
              "</style>\n",
              "<table border=\"1\" class=\"dataframe\">\n",
              "  <thead>\n",
              "    <tr style=\"text-align: right;\">\n",
              "      <th></th>\n",
              "      <th>listing_id</th>\n",
              "      <th>id</th>\n",
              "      <th>date</th>\n",
              "      <th>reviewer_id</th>\n",
              "      <th>reviewer_name</th>\n",
              "      <th>comments</th>\n",
              "    </tr>\n",
              "  </thead>\n",
              "  <tbody>\n",
              "    <tr>\n",
              "      <th>1205942</th>\n",
              "      <td>1364616759503109256</td>\n",
              "      <td>1368127111176342942</td>\n",
              "      <td>2025-03-02</td>\n",
              "      <td>368146996</td>\n",
              "      <td>Clémentine</td>\n",
              "      <td>Très bon séjour chez Juan, le logement était p...</td>\n",
              "    </tr>\n",
              "    <tr>\n",
              "      <th>1205943</th>\n",
              "      <td>1365007887657848515</td>\n",
              "      <td>1370244234430465527</td>\n",
              "      <td>2025-03-05</td>\n",
              "      <td>283312107</td>\n",
              "      <td>Hernan Enrique</td>\n",
              "      <td>Recomendable para una persona que quiere hacer...</td>\n",
              "    </tr>\n",
              "    <tr>\n",
              "      <th>1205944</th>\n",
              "      <td>1365007887657848515</td>\n",
              "      <td>1373818429800403177</td>\n",
              "      <td>2025-03-10</td>\n",
              "      <td>184521825</td>\n",
              "      <td>Carlos</td>\n",
              "      <td>Es una Host súper amable, fue atenta en todo m...</td>\n",
              "    </tr>\n",
              "    <tr>\n",
              "      <th>1205945</th>\n",
              "      <td>1365635357360238932</td>\n",
              "      <td>1368103217874537823</td>\n",
              "      <td>2025-03-02</td>\n",
              "      <td>313257078</td>\n",
              "      <td>Yuet</td>\n",
              "      <td>很友善的房东，推荐</td>\n",
              "    </tr>\n",
              "    <tr>\n",
              "      <th>1205946</th>\n",
              "      <td>1366534590465861868</td>\n",
              "      <td>1368063220606082280</td>\n",
              "      <td>2025-03-02</td>\n",
              "      <td>369293146</td>\n",
              "      <td>Hamid</td>\n",
              "      <td>Very friendly host and staff and Great locatio...</td>\n",
              "    </tr>\n",
              "  </tbody>\n",
              "</table>\n",
              "</div>\n",
              "    <div class=\"colab-df-buttons\">\n",
              "\n",
              "  <div class=\"colab-df-container\">\n",
              "    <button class=\"colab-df-convert\" onclick=\"convertToInteractive('df-2f2cbb0e-8683-466e-9314-6188c754c786')\"\n",
              "            title=\"Convert this dataframe to an interactive table.\"\n",
              "            style=\"display:none;\">\n",
              "\n",
              "  <svg xmlns=\"http://www.w3.org/2000/svg\" height=\"24px\" viewBox=\"0 -960 960 960\">\n",
              "    <path d=\"M120-120v-720h720v720H120Zm60-500h600v-160H180v160Zm220 220h160v-160H400v160Zm0 220h160v-160H400v160ZM180-400h160v-160H180v160Zm440 0h160v-160H620v160ZM180-180h160v-160H180v160Zm440 0h160v-160H620v160Z\"/>\n",
              "  </svg>\n",
              "    </button>\n",
              "\n",
              "  <style>\n",
              "    .colab-df-container {\n",
              "      display:flex;\n",
              "      gap: 12px;\n",
              "    }\n",
              "\n",
              "    .colab-df-convert {\n",
              "      background-color: #E8F0FE;\n",
              "      border: none;\n",
              "      border-radius: 50%;\n",
              "      cursor: pointer;\n",
              "      display: none;\n",
              "      fill: #1967D2;\n",
              "      height: 32px;\n",
              "      padding: 0 0 0 0;\n",
              "      width: 32px;\n",
              "    }\n",
              "\n",
              "    .colab-df-convert:hover {\n",
              "      background-color: #E2EBFA;\n",
              "      box-shadow: 0px 1px 2px rgba(60, 64, 67, 0.3), 0px 1px 3px 1px rgba(60, 64, 67, 0.15);\n",
              "      fill: #174EA6;\n",
              "    }\n",
              "\n",
              "    .colab-df-buttons div {\n",
              "      margin-bottom: 4px;\n",
              "    }\n",
              "\n",
              "    [theme=dark] .colab-df-convert {\n",
              "      background-color: #3B4455;\n",
              "      fill: #D2E3FC;\n",
              "    }\n",
              "\n",
              "    [theme=dark] .colab-df-convert:hover {\n",
              "      background-color: #434B5C;\n",
              "      box-shadow: 0px 1px 3px 1px rgba(0, 0, 0, 0.15);\n",
              "      filter: drop-shadow(0px 1px 2px rgba(0, 0, 0, 0.3));\n",
              "      fill: #FFFFFF;\n",
              "    }\n",
              "  </style>\n",
              "\n",
              "    <script>\n",
              "      const buttonEl =\n",
              "        document.querySelector('#df-2f2cbb0e-8683-466e-9314-6188c754c786 button.colab-df-convert');\n",
              "      buttonEl.style.display =\n",
              "        google.colab.kernel.accessAllowed ? 'block' : 'none';\n",
              "\n",
              "      async function convertToInteractive(key) {\n",
              "        const element = document.querySelector('#df-2f2cbb0e-8683-466e-9314-6188c754c786');\n",
              "        const dataTable =\n",
              "          await google.colab.kernel.invokeFunction('convertToInteractive',\n",
              "                                                    [key], {});\n",
              "        if (!dataTable) return;\n",
              "\n",
              "        const docLinkHtml = 'Like what you see? Visit the ' +\n",
              "          '<a target=\"_blank\" href=https://colab.research.google.com/notebooks/data_table.ipynb>data table notebook</a>'\n",
              "          + ' to learn more about interactive tables.';\n",
              "        element.innerHTML = '';\n",
              "        dataTable['output_type'] = 'display_data';\n",
              "        await google.colab.output.renderOutput(dataTable, element);\n",
              "        const docLink = document.createElement('div');\n",
              "        docLink.innerHTML = docLinkHtml;\n",
              "        element.appendChild(docLink);\n",
              "      }\n",
              "    </script>\n",
              "  </div>\n",
              "\n",
              "\n",
              "    <div id=\"df-82c59f16-5ac0-406c-a47b-1bf790c81740\">\n",
              "      <button class=\"colab-df-quickchart\" onclick=\"quickchart('df-82c59f16-5ac0-406c-a47b-1bf790c81740')\"\n",
              "                title=\"Suggest charts\"\n",
              "                style=\"display:none;\">\n",
              "\n",
              "<svg xmlns=\"http://www.w3.org/2000/svg\" height=\"24px\"viewBox=\"0 0 24 24\"\n",
              "     width=\"24px\">\n",
              "    <g>\n",
              "        <path d=\"M19 3H5c-1.1 0-2 .9-2 2v14c0 1.1.9 2 2 2h14c1.1 0 2-.9 2-2V5c0-1.1-.9-2-2-2zM9 17H7v-7h2v7zm4 0h-2V7h2v10zm4 0h-2v-4h2v4z\"/>\n",
              "    </g>\n",
              "</svg>\n",
              "      </button>\n",
              "\n",
              "<style>\n",
              "  .colab-df-quickchart {\n",
              "      --bg-color: #E8F0FE;\n",
              "      --fill-color: #1967D2;\n",
              "      --hover-bg-color: #E2EBFA;\n",
              "      --hover-fill-color: #174EA6;\n",
              "      --disabled-fill-color: #AAA;\n",
              "      --disabled-bg-color: #DDD;\n",
              "  }\n",
              "\n",
              "  [theme=dark] .colab-df-quickchart {\n",
              "      --bg-color: #3B4455;\n",
              "      --fill-color: #D2E3FC;\n",
              "      --hover-bg-color: #434B5C;\n",
              "      --hover-fill-color: #FFFFFF;\n",
              "      --disabled-bg-color: #3B4455;\n",
              "      --disabled-fill-color: #666;\n",
              "  }\n",
              "\n",
              "  .colab-df-quickchart {\n",
              "    background-color: var(--bg-color);\n",
              "    border: none;\n",
              "    border-radius: 50%;\n",
              "    cursor: pointer;\n",
              "    display: none;\n",
              "    fill: var(--fill-color);\n",
              "    height: 32px;\n",
              "    padding: 0;\n",
              "    width: 32px;\n",
              "  }\n",
              "\n",
              "  .colab-df-quickchart:hover {\n",
              "    background-color: var(--hover-bg-color);\n",
              "    box-shadow: 0 1px 2px rgba(60, 64, 67, 0.3), 0 1px 3px 1px rgba(60, 64, 67, 0.15);\n",
              "    fill: var(--button-hover-fill-color);\n",
              "  }\n",
              "\n",
              "  .colab-df-quickchart-complete:disabled,\n",
              "  .colab-df-quickchart-complete:disabled:hover {\n",
              "    background-color: var(--disabled-bg-color);\n",
              "    fill: var(--disabled-fill-color);\n",
              "    box-shadow: none;\n",
              "  }\n",
              "\n",
              "  .colab-df-spinner {\n",
              "    border: 2px solid var(--fill-color);\n",
              "    border-color: transparent;\n",
              "    border-bottom-color: var(--fill-color);\n",
              "    animation:\n",
              "      spin 1s steps(1) infinite;\n",
              "  }\n",
              "\n",
              "  @keyframes spin {\n",
              "    0% {\n",
              "      border-color: transparent;\n",
              "      border-bottom-color: var(--fill-color);\n",
              "      border-left-color: var(--fill-color);\n",
              "    }\n",
              "    20% {\n",
              "      border-color: transparent;\n",
              "      border-left-color: var(--fill-color);\n",
              "      border-top-color: var(--fill-color);\n",
              "    }\n",
              "    30% {\n",
              "      border-color: transparent;\n",
              "      border-left-color: var(--fill-color);\n",
              "      border-top-color: var(--fill-color);\n",
              "      border-right-color: var(--fill-color);\n",
              "    }\n",
              "    40% {\n",
              "      border-color: transparent;\n",
              "      border-right-color: var(--fill-color);\n",
              "      border-top-color: var(--fill-color);\n",
              "    }\n",
              "    60% {\n",
              "      border-color: transparent;\n",
              "      border-right-color: var(--fill-color);\n",
              "    }\n",
              "    80% {\n",
              "      border-color: transparent;\n",
              "      border-right-color: var(--fill-color);\n",
              "      border-bottom-color: var(--fill-color);\n",
              "    }\n",
              "    90% {\n",
              "      border-color: transparent;\n",
              "      border-bottom-color: var(--fill-color);\n",
              "    }\n",
              "  }\n",
              "</style>\n",
              "\n",
              "      <script>\n",
              "        async function quickchart(key) {\n",
              "          const quickchartButtonEl =\n",
              "            document.querySelector('#' + key + ' button');\n",
              "          quickchartButtonEl.disabled = true;  // To prevent multiple clicks.\n",
              "          quickchartButtonEl.classList.add('colab-df-spinner');\n",
              "          try {\n",
              "            const charts = await google.colab.kernel.invokeFunction(\n",
              "                'suggestCharts', [key], {});\n",
              "          } catch (error) {\n",
              "            console.error('Error during call to suggestCharts:', error);\n",
              "          }\n",
              "          quickchartButtonEl.classList.remove('colab-df-spinner');\n",
              "          quickchartButtonEl.classList.add('colab-df-quickchart-complete');\n",
              "        }\n",
              "        (() => {\n",
              "          let quickchartButtonEl =\n",
              "            document.querySelector('#df-82c59f16-5ac0-406c-a47b-1bf790c81740 button');\n",
              "          quickchartButtonEl.style.display =\n",
              "            google.colab.kernel.accessAllowed ? 'block' : 'none';\n",
              "        })();\n",
              "      </script>\n",
              "    </div>\n",
              "\n",
              "    </div>\n",
              "  </div>\n"
            ],
            "application/vnd.google.colaboratory.intrinsic+json": {
              "type": "dataframe",
              "repr_error": "0"
            }
          },
          "metadata": {},
          "execution_count": 2
        }
      ]
    },
    {
      "cell_type": "code",
      "source": [
        "df.info()"
      ],
      "metadata": {
        "colab": {
          "base_uri": "https://localhost:8080/"
        },
        "id": "C7Nro_uRd_3x",
        "outputId": "333c4734-7cda-4124-ed73-7bd2325355af"
      },
      "execution_count": null,
      "outputs": [
        {
          "output_type": "stream",
          "name": "stdout",
          "text": [
            "<class 'pandas.core.frame.DataFrame'>\n",
            "Index: 1117151 entries, 0 to 1205946\n",
            "Data columns (total 6 columns):\n",
            " #   Column         Non-Null Count    Dtype \n",
            "---  ------         --------------    ----- \n",
            " 0   listing_id     1117151 non-null  int64 \n",
            " 1   id             1117151 non-null  int64 \n",
            " 2   date           1117151 non-null  object\n",
            " 3   reviewer_id    1117151 non-null  int64 \n",
            " 4   reviewer_name  1117148 non-null  object\n",
            " 5   comments       1117151 non-null  object\n",
            "dtypes: int64(3), object(3)\n",
            "memory usage: 59.7+ MB\n"
          ]
        }
      ]
    },
    {
      "cell_type": "code",
      "source": [
        "df.info()"
      ],
      "metadata": {
        "colab": {
          "base_uri": "https://localhost:8080/"
        },
        "id": "aAezg-0LkWAe",
        "outputId": "a187e4b2-224e-4c8f-b75d-31cefe246852"
      },
      "execution_count": null,
      "outputs": [
        {
          "output_type": "stream",
          "name": "stdout",
          "text": [
            "<class 'pandas.core.frame.DataFrame'>\n",
            "Index: 1117151 entries, 0 to 1205946\n",
            "Data columns (total 6 columns):\n",
            " #   Column         Non-Null Count    Dtype \n",
            "---  ------         --------------    ----- \n",
            " 0   listing_id     1117151 non-null  int64 \n",
            " 1   id             1117151 non-null  int64 \n",
            " 2   date           1117151 non-null  object\n",
            " 3   reviewer_id    1117151 non-null  int64 \n",
            " 4   reviewer_name  1117148 non-null  object\n",
            " 5   comments       1117151 non-null  object\n",
            "dtypes: int64(3), object(3)\n",
            "memory usage: 59.7+ MB\n"
          ]
        }
      ]
    },
    {
      "cell_type": "code",
      "source": [
        "DetectorFactory.seed = 0\n",
        "\n",
        "# Función para detectar idioma\n",
        "def detect_language(text):\n",
        "    try:\n",
        "        if pd.isna(text) or text.strip() == \"\":\n",
        "            return None\n",
        "        return detect(text)\n",
        "    except Exception:\n",
        "        return None\n",
        "\n",
        "# Cargar archivo CSV en modo lectura por lotes\n",
        "chunk_size = 100  # Número de reseñas por lote\n",
        "input_file = \"reviews.csv\"\n",
        "output_file = \"clean_reviews.csv\"\n",
        "first_chunk = True\n",
        "\n",
        "for chunk in pd.read_csv(input_file, chunksize=chunk_size):\n",
        "    chunk[\"language\"] = chunk[\"comments\"].apply(detect_language)\n",
        "\n",
        "    chunk.to_csv(output_file, mode=\"a\", header=first_chunk, index=False)\n",
        "    first_chunk = False  # Solo escribir el encabezado en la primera iteración\n",
        "    #print(f\"Procesado {chunk_size} reseñas...\")\n",
        "\n",
        "print(\"✅ Traducción completada y guardada en\", output_file)"
      ],
      "metadata": {
        "id": "fNJrp-m7Sb8U"
      },
      "execution_count": null,
      "outputs": []
    },
    {
      "cell_type": "code",
      "source": [
        "df_1=pd.read_csv('clean_reviews.csv')\n",
        "df_1.tail()"
      ],
      "metadata": {
        "id": "enG0CiP-bGms"
      },
      "execution_count": null,
      "outputs": []
    },
    {
      "cell_type": "markdown",
      "source": [
        "**Esta línea de código solo se hace la primera vez. Toma unas cuantas horas en traducir. Para seguir con la traducción cuando se interrumpe, hacerlo con la de más adelante.**"
      ],
      "metadata": {
        "id": "sgamAHhis8oc"
      }
    },
    {
      "cell_type": "code",
      "source": [
        "# Función para traducir usando la columna de idioma\n",
        "def translate_review(text, lang):\n",
        "    try:\n",
        "        if pd.isna(text) or pd.isna(lang):\n",
        "            return None\n",
        "        if lang == \"en\":  # Si ya está en inglés, no traducir\n",
        "            return text\n",
        "        return GoogleTranslator(source=lang, target=\"en\").translate(text)\n",
        "    except Exception:\n",
        "        return None\n",
        "\n",
        "chunk_size = 1000\n",
        "input_file = \"clean_reviews.csv\"\n",
        "output_file = \"translated_reviews.csv\"\n",
        "first_chunk = True\n",
        "\n",
        "for chunk in pd.read_csv(input_file, chunksize=chunk_size):\n",
        "    chunk[\"translated_review\"] = chunk.apply(lambda row: translate_review(row[\"comments\"], row[\"language\"]), axis=1)\n",
        "\n",
        "    chunk.to_csv(output_file, mode=\"a\", header=first_chunk, index=False)\n",
        "    first_chunk = False\n",
        "\n",
        "print(\"✅ Traducción completada y guardada en\", output_file)"
      ],
      "metadata": {
        "id": "sIiCXwqTAnlO"
      },
      "execution_count": null,
      "outputs": []
    },
    {
      "cell_type": "code",
      "source": [
        "# Función para traducir usando la columna de idioma\n",
        "def translate_review(text, lang):\n",
        "    try:\n",
        "        if pd.isna(text) or pd.isna(lang):\n",
        "            return None\n",
        "        if lang == \"en\":\n",
        "            return text\n",
        "        return GoogleTranslator(source=lang, target=\"en\").translate(text)\n",
        "    except Exception:\n",
        "        return None"
      ],
      "metadata": {
        "id": "T_x66Mu0muY-"
      },
      "execution_count": null,
      "outputs": []
    },
    {
      "cell_type": "markdown",
      "source": [
        "**Seguir con este código a partir de la segunda vez que se traduce.**"
      ],
      "metadata": {
        "id": "zQHl3pnBtgSS"
      }
    },
    {
      "cell_type": "code",
      "source": [
        "chunk_size = 1000\n",
        "input_file = \"clean_reviews.csv\"\n",
        "output_file = \"translated_reviews.csv\"\n",
        "\n",
        "try:\n",
        "    translated_df = pd.read_csv(output_file)\n",
        "    translated_ids = set(translated_df[\"id\"])\n",
        "    first_chunk = False\n",
        "except FileNotFoundError:\n",
        "    translated_ids = set()\n",
        "    first_chunk = True\n",
        "\n",
        "for chunk in pd.read_csv(input_file, chunksize=chunk_size):\n",
        "    chunk = chunk[~chunk[\"id\"].isin(translated_ids)] # Filtrar solo las reseñas traducidas\n",
        "\n",
        "    if chunk.empty:\n",
        "        continue\n",
        "\n",
        "    chunk[\"translated_review\"] = chunk.apply(lambda row: translate_review(row[\"comments\"], row[\"language\"]), axis=1)\n",
        "\n",
        "    chunk.to_csv(output_file, mode=\"a\", header=first_chunk, index=False)\n",
        "    first_chunk = False\n",
        "\n",
        "print(\"✅ Traducción completada y guardada en\", output_file)"
      ],
      "metadata": {
        "id": "Wi41k7nRmdMb",
        "colab": {
          "base_uri": "https://localhost:8080/"
        },
        "outputId": "abc753e8-f672-4105-a02a-aa0c1113b155"
      },
      "execution_count": null,
      "outputs": [
        {
          "output_type": "stream",
          "name": "stdout",
          "text": [
            "✅ Traducción completada y guardada en translated_reviews.csv\n"
          ]
        }
      ]
    },
    {
      "cell_type": "code",
      "source": [
        "df_t=pd.read_csv('translated_reviews.csv')\n",
        "df_t.tail()"
      ],
      "metadata": {
        "id": "3PckY6ydoNny"
      },
      "execution_count": null,
      "outputs": []
    },
    {
      "cell_type": "code",
      "source": [
        "df_t"
      ],
      "metadata": {
        "id": "QJGSdiDJujYG"
      },
      "execution_count": null,
      "outputs": []
    }
  ]
}